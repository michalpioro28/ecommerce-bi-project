{
 "cells": [
  {
   "cell_type": "markdown",
   "id": "c21f79a9",
   "metadata": {},
   "source": [
    "# Data Cleaning – Notebook\n",
    "\n",
    "**Uwaga**  \n",
    "Ten notatnik pełni rolę *„brudnopisu”* – pokazuje proces czyszczenia danych krok po kroku.  \n",
    "Kod i wizualizacje w tym notebooku mają charakter roboczy i nie są dopracowane pod względem estetycznym.  \n",
    "\n",
    "Estetyczne i finalne wersje wyników znajdują się w:  \n",
    "- `scripts/data_cleaning.py` - czysty, uporządkowany kod,  \n",
    "- `reports/cleaning_report.md` - finalny raport z czyszczenia danych.  \n",
    "\n",
    "Celem tego notatnika jest **pokazanie procesu przygotowania danych do analizy**, w tym:  \n",
    "- obsługa braków danych,  \n",
    "- uporządkowanie formatów,  \n",
    "- zapis plików wynikowych w formacie CSV (`data/clean/`),  \n",
    "- dokumentacja decyzji czyszczących.  "
   ]
  },
  {
   "cell_type": "markdown",
   "id": "b349966c",
   "metadata": {},
   "source": [
    "## Importy bibliotek i konfiguracja połączenia\n",
    "\n",
    "Importujemy niezbędne biblioteki:\n",
    "- `os` – operacje na plikach i ścieżkach,\n",
    "- `pandas` – praca z DataFrame,\n",
    "- `dotenv` – wczytywanie zmiennych środowiskowych,\n",
    "- `sqlalchemy` – połączenie z bazą PostgreSQL i wykonywanie zapytań."
   ]
  },
  {
   "cell_type": "code",
   "execution_count": 6,
   "id": "3cccb6c9",
   "metadata": {},
   "outputs": [],
   "source": [
    "import os\n",
    "import pandas as pd\n",
    "from dotenv import load_dotenv\n",
    "from sqlalchemy import create_engine, text"
   ]
  },
  {
   "cell_type": "markdown",
   "id": "f9982ad9",
   "metadata": {},
   "source": [
    "## Wczytanie zmiennych z pliku `.env`\n",
    "\n",
    "Ładujemy dane do logowania do bazy z pliku `.env`:\n",
    "- DB_HOST - adres hosta bazy,\n",
    "- DB_NAME - nazwa bazy danych,\n",
    "- DB_USER - użytkownik,\n",
    "- DB_PASS - hasło."
   ]
  },
  {
   "cell_type": "code",
   "execution_count": 7,
   "id": "1d0c3f38",
   "metadata": {},
   "outputs": [],
   "source": [
    "load_dotenv()\n",
    "\n",
    "DB_HOST = os.getenv(\"DB_HOST\")\n",
    "DB_NAME = os.getenv(\"DB_NAME\")\n",
    "DB_USER = os.getenv(\"DB_USER\")\n",
    "DB_PASS = os.getenv(\"DB_PASS\")"
   ]
  },
  {
   "cell_type": "markdown",
   "id": "b4cecc83",
   "metadata": {},
   "source": [
    "## Połączenie z bazą danych\n",
    "\n",
    "Tworzymy połączenie do bazy PostgreSQL z wykorzystaniem SQLAlchemy.\n",
    "Sprawdzamy również wersję bazy, aby upewnić się, że połączenie działa."
   ]
  },
  {
   "cell_type": "code",
   "execution_count": 8,
   "id": "f04b78e0",
   "metadata": {},
   "outputs": [
    {
     "name": "stdout",
     "output_type": "stream",
     "text": [
      "Połączono z bazą. Wersja PostgreSQL: PostgreSQL 17.5 on x86_64-windows, compiled by msvc-19.44.35209, 64-bit\n"
     ]
    }
   ],
   "source": [
    "engine = create_engine(f\"postgresql+psycopg2://{DB_USER}:{DB_PASS}@{DB_HOST}/{DB_NAME}\")\n",
    "\n",
    "with engine.connect() as conn:\n",
    "    version = conn.execute(text(\"SELECT version()\")).scalar()\n",
    "    print(f\"Połączono z bazą. Wersja PostgreSQL: {version}\")"
   ]
  },
  {
   "cell_type": "markdown",
   "id": "5e05e41d",
   "metadata": {},
   "source": [
    "## Lista tabel do czyszczenia\n",
    "\n",
    "Definuijemy, które tabele chcemy oczyścić w bazie."
   ]
  },
  {
   "cell_type": "code",
   "execution_count": 9,
   "id": "1490317a",
   "metadata": {},
   "outputs": [],
   "source": [
    "tables = [\"orders\", \"order_items\", \"sessions\", \"events\", \"users\", \"sellers\", \"products\"]"
   ]
  },
  {
   "cell_type": "markdown",
   "id": "54b493bd",
   "metadata": {},
   "source": [
    "## Czyszczenie tabel\n",
    "\n",
    "Dla każdej tabeli wykonujemy:\n",
    "1. Wczytanie danych do Pandas DataFrame.\n",
    "2. Specyficzne poprawki dla wybranych tabel (np. brakujące kolumny, błędne nazwy).\n",
    "3. Ujednolicenie dat.\n",
    "4. Zapis wyczyszczonych danych do schematu `clean`."
   ]
  },
  {
   "cell_type": "code",
   "execution_count": null,
   "id": "d37a8da1",
   "metadata": {},
   "outputs": [
    {
     "name": "stdout",
     "output_type": "stream",
     "text": [
      "\n",
      "=== Czyszczenie tabeli: orders ===\n",
      "✔ Tabela 'orders' zapisana (80000 wierszy).\n",
      "\n",
      "=== Czyszczenie tabeli: order_items ===\n",
      "✔ Tabela 'order_items' zapisana (219702 wierszy).\n",
      "\n",
      "=== Czyszczenie tabeli: sessions ===\n",
      "✔ Tabela 'sessions' zapisana (100000 wierszy).\n",
      "\n",
      "=== Czyszczenie tabeli: events ===\n"
     ]
    },
    {
     "name": "stderr",
     "output_type": "stream",
     "text": [
      "C:\\Users\\Michał\\AppData\\Local\\Temp\\ipykernel_560\\208264470.py:21: FutureWarning: A value is trying to be set on a copy of a DataFrame or Series through chained assignment using an inplace method.\n",
      "The behavior will change in pandas 3.0. This inplace method will never work because the intermediate object on which we are setting values always behaves as a copy.\n",
      "\n",
      "For example, when doing 'df[col].method(value, inplace=True)', try using 'df.method({col: value}, inplace=True)' or df[col] = df[col].method(value) instead, to perform the operation inplace on the original object.\n",
      "\n",
      "\n",
      "  df[col].fillna(-1, inplace=True)\n"
     ]
    },
    {
     "name": "stdout",
     "output_type": "stream",
     "text": [
      "✔ Tabela 'events' zapisana (200000 wierszy).\n",
      "\n",
      "=== Czyszczenie tabeli: users ===\n",
      "✔ Tabela 'users' zapisana (10000 wierszy).\n",
      "\n",
      "=== Czyszczenie tabeli: sellers ===\n",
      "✔ Tabela 'sellers' zapisana (75 wierszy).\n",
      "\n",
      "=== Czyszczenie tabeli: products ===\n",
      "✔ Tabela 'products' zapisana (2000 wierszy).\n",
      "\n",
      "✅ Czyszczenie zakończone!\n"
     ]
    },
    {
     "name": "stderr",
     "output_type": "stream",
     "text": [
      "C:\\Users\\Michał\\AppData\\Local\\Temp\\ipykernel_560\\208264470.py:12: FutureWarning: A value is trying to be set on a copy of a DataFrame or Series through chained assignment using an inplace method.\n",
      "The behavior will change in pandas 3.0. This inplace method will never work because the intermediate object on which we are setting values always behaves as a copy.\n",
      "\n",
      "For example, when doing 'df[col].method(value, inplace=True)', try using 'df.method({col: value}, inplace=True)' or df[col] = df[col].method(value) instead, to perform the operation inplace on the original object.\n",
      "\n",
      "\n",
      "  df[\"location\"].fillna(\"unknown\", inplace=True)\n",
      "C:\\Users\\Michał\\AppData\\Local\\Temp\\ipykernel_560\\208264470.py:16: FutureWarning: A value is trying to be set on a copy of a DataFrame or Series through chained assignment using an inplace method.\n",
      "The behavior will change in pandas 3.0. This inplace method will never work because the intermediate object on which we are setting values always behaves as a copy.\n",
      "\n",
      "For example, when doing 'df[col].method(value, inplace=True)', try using 'df.method({col: value}, inplace=True)' or df[col] = df[col].method(value) instead, to perform the operation inplace on the original object.\n",
      "\n",
      "\n",
      "  df[\"stock_quantity\"].fillna(0, inplace=True)\n",
      "C:\\Users\\Michał\\AppData\\Local\\Temp\\ipykernel_560\\208264470.py:16: FutureWarning: Downcasting object dtype arrays on .fillna, .ffill, .bfill is deprecated and will change in a future version. Call result.infer_objects(copy=False) instead. To opt-in to the future behavior, set `pd.set_option('future.no_silent_downcasting', True)`\n",
      "  df[\"stock_quantity\"].fillna(0, inplace=True)\n"
     ]
    }
   ],
   "source": [
    "for table in tables:\n",
    "    print(f\"\\n=== Czyszczenie tabeli: {table} ===\")\n",
    "    df = pd.read_sql(f'SELECT * FROM \"{table}\"', engine)\n",
    "\n",
    "    # -----------------------\n",
    "    # Specyficzne poprawki\n",
    "    # -----------------------\n",
    "    \n",
    "    if table == \"sellers\":\n",
    "        bad_cols = [col for col in df.columns if \";\" in col]\n",
    "        df.drop(columns=bad_cols, inplace=True, errors=\"ignore\")\n",
    "        if \"location\" in df.columns:\n",
    "            df[\"location\"].fillna(\"unknown\", inplace=True)\n",
    "\n",
    "    if table == \"products\":\n",
    "        if \"stock_quantity\" in df.columns:\n",
    "            df[\"stock_quantity\"].fillna(0, inplace=True)\n",
    "\n",
    "    if table == \"events\":\n",
    "        for col in [\"product_id\", \"seller_id\"]:\n",
    "            if col in df.columns:\n",
    "                df[col].fillna(-1, inplace=True)\n",
    "\n",
    "    # -----------------------\n",
    "    # Ujednolicenie dat\n",
    "    # -----------------------\n",
    "    for col in df.columns:\n",
    "        if \"date\" in col or \"time\" in col:\n",
    "            try:\n",
    "                df[col] = pd.to_datetime(df[col])\n",
    "            except Exception:\n",
    "                pass\n",
    "\n",
    "    # -----------------------\n",
    "    # Zapis do schematu \"clean\"\n",
    "    # -----------------------\n",
    "    df.to_sql(table, engine, schema=\"clean\", if_exists=\"replace\", index=False)\n",
    "    print(f\"✔ Tabela '{table}' zapisana ({len(df)} wierszy).\")\n",
    "\n",
    "print(\"\\n✅ Czyszczenie zakończone!\")"
   ]
  },
  {
   "cell_type": "markdown",
   "id": "250d793d",
   "metadata": {},
   "source": [
    "## Podsumowanie\n",
    "\n",
    "- Wszystkie tabele zostały oczyszczone i zapisane w schemacie `clean`.\n",
    "- Braki danych zostały uzupełnione.\n",
    "- Kolumny z datami są w formacie datetime.\n",
    "- Tabele gotowe do dalszej analizy w SQL lub Power BI"
   ]
  }
 ],
 "metadata": {
  "kernelspec": {
   "display_name": "venv",
   "language": "python",
   "name": "python3"
  },
  "language_info": {
   "codemirror_mode": {
    "name": "ipython",
    "version": 3
   },
   "file_extension": ".py",
   "mimetype": "text/x-python",
   "name": "python",
   "nbconvert_exporter": "python",
   "pygments_lexer": "ipython3",
   "version": "3.13.6"
  }
 },
 "nbformat": 4,
 "nbformat_minor": 5
}
